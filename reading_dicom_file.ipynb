{
 "cells": [
  {
   "cell_type": "code",
   "execution_count": 4,
   "id": "b18dce88",
   "metadata": {},
   "outputs": [],
   "source": [
    "import sys, os\n",
    "import pandas as pd\n",
    "import SimpleITK as sitk"
   ]
  },
  {
   "cell_type": "code",
   "execution_count": 5,
   "id": "343c0395",
   "metadata": {},
   "outputs": [
    {
     "data": {
      "text/plain": [
       "['/home/abishek/Desktop/MedPhys',\n",
       " '/home/abishek/anaconda3/envs/medphys/lib/python311.zip',\n",
       " '/home/abishek/anaconda3/envs/medphys/lib/python3.11',\n",
       " '/home/abishek/anaconda3/envs/medphys/lib/python3.11/lib-dynload',\n",
       " '',\n",
       " '/home/abishek/anaconda3/envs/medphys/lib/python3.11/site-packages']"
      ]
     },
     "execution_count": 5,
     "metadata": {},
     "output_type": "execute_result"
    }
   ],
   "source": [
    "sys.path"
   ]
  },
  {
   "cell_type": "code",
   "execution_count": 3,
   "id": "dcd6dca0",
   "metadata": {},
   "outputs": [],
   "source": [
    "import pydicom"
   ]
  },
  {
   "cell_type": "code",
   "execution_count": 4,
   "id": "43c3a5b9",
   "metadata": {},
   "outputs": [
    {
     "data": {
      "text/plain": [
       "'2.3.1'"
      ]
     },
     "execution_count": 4,
     "metadata": {},
     "output_type": "execute_result"
    }
   ],
   "source": [
    "pydicom.__version__"
   ]
  },
  {
   "cell_type": "code",
   "execution_count": 9,
   "id": "2eaaad71",
   "metadata": {},
   "outputs": [],
   "source": [
    "from pydicom.data import get_testdata_file\n",
    "fpath = get_testdata_file(\"CT_small.dcm\")"
   ]
  },
  {
   "cell_type": "code",
   "execution_count": 10,
   "id": "88c864cd",
   "metadata": {},
   "outputs": [
    {
     "data": {
      "text/plain": [
       "'/home/abishek/anaconda3/envs/medphys/lib/python3.11/site-packages/pydicom/data/test_files/CT_small.dcm'"
      ]
     },
     "execution_count": 10,
     "metadata": {},
     "output_type": "execute_result"
    }
   ],
   "source": [
    "fpath"
   ]
  },
  {
   "cell_type": "code",
   "execution_count": 7,
   "id": "ee77bf97",
   "metadata": {},
   "outputs": [],
   "source": [
    "from pydicom import dcmread\n",
    "ds = dcmread(fpath)"
   ]
  },
  {
   "cell_type": "code",
   "execution_count": 8,
   "id": "f15e3632",
   "metadata": {},
   "outputs": [],
   "source": [
    "# Mds.SOPClassUID\n",
    "\n",
    "# ds.ImageType\n",
    "\n",
    "# from pydicom.fileset import FileSet\n",
    "# path = get_testdata_file(\"DICOMDIR\")\n",
    "\n",
    "# path"
   ]
  },
  {
   "cell_type": "code",
   "execution_count": 6,
   "id": "118d3947",
   "metadata": {},
   "outputs": [],
   "source": [
    "# dir(ds)"
   ]
  },
  {
   "cell_type": "code",
   "execution_count": 13,
   "id": "8fdcb0a7",
   "metadata": {},
   "outputs": [],
   "source": [
    "# dir(ds)"
   ]
  },
  {
   "cell_type": "code",
   "execution_count": 8,
   "id": "1e4806ec",
   "metadata": {},
   "outputs": [],
   "source": [
    "# ds.Columns"
   ]
  },
  {
   "cell_type": "code",
   "execution_count": 7,
   "id": "49aabaaf",
   "metadata": {},
   "outputs": [],
   "source": [
    "# len(dir(ds))"
   ]
  },
  {
   "cell_type": "code",
   "execution_count": 27,
   "id": "b0cd1600",
   "metadata": {},
   "outputs": [],
   "source": [
    "cols = ['AccessionNumber',\n",
    " 'AcquisitionDate',\n",
    " 'AcquisitionNumber',\n",
    " 'AcquisitionTime',\n",
    " 'AdditionalPatientHistory',\n",
    " 'BitsAllocated',\n",
    " 'BitsStored',]"
   ]
  },
  {
   "cell_type": "code",
   "execution_count": 31,
   "id": "d564224a",
   "metadata": {},
   "outputs": [
    {
     "data": {
      "text/plain": [
       "''"
      ]
     },
     "execution_count": 31,
     "metadata": {},
     "output_type": "execute_result"
    }
   ],
   "source": [
    "ds.AccessionNumber"
   ]
  },
  {
   "cell_type": "code",
   "execution_count": 33,
   "id": "9dd6cf8e",
   "metadata": {},
   "outputs": [
    {
     "data": {
      "text/plain": [
       "'2'"
      ]
     },
     "execution_count": 33,
     "metadata": {},
     "output_type": "execute_result"
    }
   ],
   "source": [
    "ds.AcquisitionNumber"
   ]
  },
  {
   "cell_type": "code",
   "execution_count": 43,
   "id": "c7a47958",
   "metadata": {},
   "outputs": [],
   "source": [
    "from collections import defaultdict\n",
    "import numpy as np\n",
    "df = pd.DataFrame(columns=cols)\n",
    "my_dict = defaultdict(list)"
   ]
  },
  {
   "cell_type": "code",
   "execution_count": 44,
   "id": "845f1dac",
   "metadata": {},
   "outputs": [
    {
     "data": {
      "text/html": [
       "<div>\n",
       "<style scoped>\n",
       "    .dataframe tbody tr th:only-of-type {\n",
       "        vertical-align: middle;\n",
       "    }\n",
       "\n",
       "    .dataframe tbody tr th {\n",
       "        vertical-align: top;\n",
       "    }\n",
       "\n",
       "    .dataframe thead th {\n",
       "        text-align: right;\n",
       "    }\n",
       "</style>\n",
       "<table border=\"1\" class=\"dataframe\">\n",
       "  <thead>\n",
       "    <tr style=\"text-align: right;\">\n",
       "      <th></th>\n",
       "      <th>AccessionNumber</th>\n",
       "      <th>AcquisitionDate</th>\n",
       "      <th>AcquisitionNumber</th>\n",
       "      <th>AcquisitionTime</th>\n",
       "      <th>AdditionalPatientHistory</th>\n",
       "      <th>BitsAllocated</th>\n",
       "      <th>BitsStored</th>\n",
       "    </tr>\n",
       "  </thead>\n",
       "  <tbody>\n",
       "  </tbody>\n",
       "</table>\n",
       "</div>"
      ],
      "text/plain": [
       "Empty DataFrame\n",
       "Columns: [AccessionNumber, AcquisitionDate, AcquisitionNumber, AcquisitionTime, AdditionalPatientHistory, BitsAllocated, BitsStored]\n",
       "Index: []"
      ]
     },
     "execution_count": 44,
     "metadata": {},
     "output_type": "execute_result"
    }
   ],
   "source": [
    "df"
   ]
  },
  {
   "cell_type": "code",
   "execution_count": 45,
   "id": "7a35770c",
   "metadata": {},
   "outputs": [],
   "source": [
    "for i in cols:\n",
    "    if i in ds:\n",
    "#         print (ds[i].value)\n",
    "        my_dict[i].append(ds[i].value)\n",
    "    else:\n",
    "        my_dict[i].append(np.nan)\n",
    "df = pd.concat([df, pd.DataFrame(my_dict)], ignore_index=True)"
   ]
  },
  {
   "cell_type": "code",
   "execution_count": 46,
   "id": "ef0b2e0a",
   "metadata": {},
   "outputs": [
    {
     "data": {
      "text/html": [
       "<div>\n",
       "<style scoped>\n",
       "    .dataframe tbody tr th:only-of-type {\n",
       "        vertical-align: middle;\n",
       "    }\n",
       "\n",
       "    .dataframe tbody tr th {\n",
       "        vertical-align: top;\n",
       "    }\n",
       "\n",
       "    .dataframe thead th {\n",
       "        text-align: right;\n",
       "    }\n",
       "</style>\n",
       "<table border=\"1\" class=\"dataframe\">\n",
       "  <thead>\n",
       "    <tr style=\"text-align: right;\">\n",
       "      <th></th>\n",
       "      <th>AccessionNumber</th>\n",
       "      <th>AcquisitionDate</th>\n",
       "      <th>AcquisitionNumber</th>\n",
       "      <th>AcquisitionTime</th>\n",
       "      <th>AdditionalPatientHistory</th>\n",
       "      <th>BitsAllocated</th>\n",
       "      <th>BitsStored</th>\n",
       "    </tr>\n",
       "  </thead>\n",
       "  <tbody>\n",
       "    <tr>\n",
       "      <th>0</th>\n",
       "      <td></td>\n",
       "      <td>19970430</td>\n",
       "      <td>2</td>\n",
       "      <td>112936</td>\n",
       "      <td></td>\n",
       "      <td>16</td>\n",
       "      <td>16</td>\n",
       "    </tr>\n",
       "  </tbody>\n",
       "</table>\n",
       "</div>"
      ],
      "text/plain": [
       "  AccessionNumber AcquisitionDate AcquisitionNumber AcquisitionTime  \\\n",
       "0                        19970430                 2          112936   \n",
       "\n",
       "  AdditionalPatientHistory BitsAllocated BitsStored  \n",
       "0                                     16         16  "
      ]
     },
     "execution_count": 46,
     "metadata": {},
     "output_type": "execute_result"
    }
   ],
   "source": [
    "df"
   ]
  },
  {
   "cell_type": "markdown",
   "id": "601e2244",
   "metadata": {},
   "source": [
    "## Using SimpleITK"
   ]
  },
  {
   "cell_type": "code",
   "execution_count": 11,
   "id": "ea0690fd",
   "metadata": {},
   "outputs": [],
   "source": [
    "# Read CT image \n",
    "image = sitk.ReadImage(fpath)"
   ]
  },
  {
   "cell_type": "code",
   "execution_count": 12,
   "id": "c6d9c969",
   "metadata": {},
   "outputs": [
    {
     "data": {
      "text/plain": [
       "SimpleITK.SimpleITK.Image"
      ]
     },
     "execution_count": 12,
     "metadata": {},
     "output_type": "execute_result"
    }
   ],
   "source": [
    "type(image)"
   ]
  },
  {
   "cell_type": "code",
   "execution_count": 13,
   "id": "8763c9ac",
   "metadata": {},
   "outputs": [],
   "source": [
    "# Convert the image to  numpy array\n",
    "image_array = sitk.GetArrayFromImage(image)"
   ]
  },
  {
   "cell_type": "code",
   "execution_count": 15,
   "id": "9d024fa9",
   "metadata": {},
   "outputs": [
    {
     "data": {
      "text/plain": [
       "(1, 128, 128)"
      ]
     },
     "execution_count": 15,
     "metadata": {},
     "output_type": "execute_result"
    }
   ],
   "source": [
    "image_array.shape"
   ]
  },
  {
   "cell_type": "code",
   "execution_count": 16,
   "id": "e1e9ffe6",
   "metadata": {},
   "outputs": [],
   "source": [
    "## Creating binary mask using the threshold range\n",
    "lower_thr = -1000\n",
    "upper_thr = 400\n",
    "\n",
    "mask = (image_array>lower_thr) & (image_array< upper_thr)"
   ]
  },
  {
   "cell_type": "code",
   "execution_count": 17,
   "id": "acb0a76c",
   "metadata": {},
   "outputs": [
    {
     "data": {
      "text/plain": [
       "array([[[ True,  True,  True, ...,  True,  True,  True],\n",
       "        [ True,  True,  True, ...,  True,  True,  True],\n",
       "        [ True,  True,  True, ...,  True,  True,  True],\n",
       "        ...,\n",
       "        [ True,  True,  True, ...,  True,  True,  True],\n",
       "        [ True,  True,  True, ...,  True,  True,  True],\n",
       "        [ True,  True,  True, ...,  True,  True,  True]]])"
      ]
     },
     "execution_count": 17,
     "metadata": {},
     "output_type": "execute_result"
    }
   ],
   "source": [
    "mask"
   ]
  },
  {
   "cell_type": "code",
   "execution_count": null,
   "id": "7cffa6ac",
   "metadata": {},
   "outputs": [],
   "source": []
  }
 ],
 "metadata": {
  "kernelspec": {
   "display_name": "Python 3 (ipykernel)",
   "language": "python",
   "name": "python3"
  },
  "language_info": {
   "codemirror_mode": {
    "name": "ipython",
    "version": 3
   },
   "file_extension": ".py",
   "mimetype": "text/x-python",
   "name": "python",
   "nbconvert_exporter": "python",
   "pygments_lexer": "ipython3",
   "version": "3.11.0"
  }
 },
 "nbformat": 4,
 "nbformat_minor": 5
}
