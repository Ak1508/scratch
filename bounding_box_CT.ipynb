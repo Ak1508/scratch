{
 "cells": [
  {
   "cell_type": "code",
   "execution_count": 1,
   "metadata": {},
   "outputs": [],
   "source": [
    "import sys, os\n",
    "import pandas as pd\n",
    "import SimpleITK as sitk"
   ]
  },
  {
   "cell_type": "code",
   "execution_count": 9,
   "metadata": {},
   "outputs": [],
   "source": [
    "from pydicom.data import get_testdata_file\n",
    "fpath = get_testdata_file(\"liver_1frame.dcm\")"
   ]
  },
  {
   "cell_type": "code",
   "execution_count": 10,
   "metadata": {},
   "outputs": [],
   "source": [
    "from pydicom import dcmread\n",
    "ds = dcmread(fpath)"
   ]
  },
  {
   "cell_type": "code",
   "execution_count": 18,
   "metadata": {},
   "outputs": [],
   "source": [
    "# ds"
   ]
  },
  {
   "cell_type": "code",
   "execution_count": 15,
   "metadata": {},
   "outputs": [],
   "source": [
    "import SimpleITK as sitk\n",
    "\n",
    "def create_bounding_box(image_path):\n",
    "    # Read CT image\n",
    "    image = sitk.ReadImage(image_path)\n",
    "\n",
    "    # Convert image to binary\n",
    "#     binary_image = sitk.BinaryThreshold(image, lowerThreshold=127, upperThreshold=255)\n",
    "\n",
    "#     # Find the bounding box of the binary image\n",
    "#     binary_array = sitk.GetArrayFromImage(binary_image)\n",
    "#     nonzero_indices = numpy.nonzero(binary_array)\n",
    "#     xmin, xmax, ymin, ymax, zmin, zmax = (numpy.min(nonzero_indices[0]), numpy.max(nonzero_indices[0]), \n",
    "#                                             numpy.min(nonzero_indices[1]), numpy.max(nonzero_indices[1]), \n",
    "#                                             numpy.min(nonzero_indices[2]), numpy.max(nonzero_indices[2]))\n",
    "#     # Display the bounding box on the original image\n",
    "#     sitk.Show(sitk.Tile([sitk.LabelOverlay(sitk.Cast(image,sitk.sitkUInt8), binary_image), \n",
    "#                         sitk.LabelOverlay(sitk.Cast(image,sitk.sitkUInt8), \n",
    "#                         sitk.RegionOfInterest(binary_image,[xmin, ymin, zmin],[xmax-xmin+1, ymax-ymin+1, zmax-zmin+1]))],\n",
    "#                        [2,1], [1,1]))\n",
    "    return image"
   ]
  },
  {
   "cell_type": "code",
   "execution_count": 16,
   "metadata": {},
   "outputs": [
    {
     "ename": "RuntimeError",
     "evalue": "Exception thrown in SimpleITK ImageSeriesReader_Execute: /home/conda/feedstock_root/build_artifacts/libsimpleitk_1670439718985/work/Code/IO/src/sitkImageReaderBase.cxx:97:\nsitk::ERROR: The file \"(0008, 0008) Image Type                          CS: ['DERIVED', 'PRIMARY']\" does not exist.",
     "output_type": "error",
     "traceback": [
      "\u001b[0;31m---------------------------------------------------------------------------\u001b[0m",
      "\u001b[0;31mRuntimeError\u001b[0m                              Traceback (most recent call last)",
      "Cell \u001b[0;32mIn[16], line 1\u001b[0m\n\u001b[0;32m----> 1\u001b[0m \u001b[43mcreate_bounding_box\u001b[49m\u001b[43m(\u001b[49m\u001b[43mds\u001b[49m\u001b[43m)\u001b[49m\n",
      "Cell \u001b[0;32mIn[15], line 5\u001b[0m, in \u001b[0;36mcreate_bounding_box\u001b[0;34m(image_path)\u001b[0m\n\u001b[1;32m      3\u001b[0m \u001b[38;5;28;01mdef\u001b[39;00m \u001b[38;5;21mcreate_bounding_box\u001b[39m(image_path):\n\u001b[1;32m      4\u001b[0m     \u001b[38;5;66;03m# Read CT image\u001b[39;00m\n\u001b[0;32m----> 5\u001b[0m     image \u001b[38;5;241m=\u001b[39m \u001b[43msitk\u001b[49m\u001b[38;5;241;43m.\u001b[39;49m\u001b[43mReadImage\u001b[49m\u001b[43m(\u001b[49m\u001b[43mimage_path\u001b[49m\u001b[43m)\u001b[49m\n\u001b[1;32m      7\u001b[0m     \u001b[38;5;66;03m# Convert image to binary\u001b[39;00m\n\u001b[1;32m      8\u001b[0m \u001b[38;5;66;03m#     binary_image = sitk.BinaryThreshold(image, lowerThreshold=127, upperThreshold=255)\u001b[39;00m\n\u001b[1;32m      9\u001b[0m \n\u001b[0;32m   (...)\u001b[0m\n\u001b[1;32m     19\u001b[0m \u001b[38;5;66;03m#                         sitk.RegionOfInterest(binary_image,[xmin, ymin, zmin],[xmax-xmin+1, ymax-ymin+1, zmax-zmin+1]))],\u001b[39;00m\n\u001b[1;32m     20\u001b[0m \u001b[38;5;66;03m#                        [2,1], [1,1]))\u001b[39;00m\n\u001b[1;32m     21\u001b[0m     \u001b[38;5;28;01mreturn\u001b[39;00m image\n",
      "File \u001b[0;32m~/anaconda3/envs/medphys/lib/python3.11/site-packages/SimpleITK/extra.py:355\u001b[0m, in \u001b[0;36mReadImage\u001b[0;34m(fileName, outputPixelType, imageIO)\u001b[0m\n\u001b[1;32m    353\u001b[0m reader\u001b[38;5;241m.\u001b[39mSetImageIO(imageIO)\n\u001b[1;32m    354\u001b[0m reader\u001b[38;5;241m.\u001b[39mSetOutputPixelType(outputPixelType)\n\u001b[0;32m--> 355\u001b[0m \u001b[38;5;28;01mreturn\u001b[39;00m \u001b[43mreader\u001b[49m\u001b[38;5;241;43m.\u001b[39;49m\u001b[43mExecute\u001b[49m\u001b[43m(\u001b[49m\u001b[43m)\u001b[49m\n",
      "File \u001b[0;32m~/anaconda3/envs/medphys/lib/python3.11/site-packages/SimpleITK/SimpleITK.py:8276\u001b[0m, in \u001b[0;36mImageSeriesReader.Execute\u001b[0;34m(self)\u001b[0m\n\u001b[1;32m   8263\u001b[0m \u001b[38;5;28;01mdef\u001b[39;00m \u001b[38;5;21mExecute\u001b[39m(\u001b[38;5;28mself\u001b[39m):\n\u001b[1;32m   8264\u001b[0m     \u001b[38;5;124mr\u001b[39m\u001b[38;5;124;03m\"\"\"\u001b[39;00m\n\u001b[1;32m   8265\u001b[0m \u001b[38;5;124;03m    Execute(ImageSeriesReader self) -> Image\u001b[39;00m\n\u001b[1;32m   8266\u001b[0m \n\u001b[0;32m   (...)\u001b[0m\n\u001b[1;32m   8274\u001b[0m \n\u001b[1;32m   8275\u001b[0m \u001b[38;5;124;03m    \"\"\"\u001b[39;00m\n\u001b[0;32m-> 8276\u001b[0m     \u001b[38;5;28;01mreturn\u001b[39;00m \u001b[43m_SimpleITK\u001b[49m\u001b[38;5;241;43m.\u001b[39;49m\u001b[43mImageSeriesReader_Execute\u001b[49m\u001b[43m(\u001b[49m\u001b[38;5;28;43mself\u001b[39;49m\u001b[43m)\u001b[49m\n",
      "\u001b[0;31mRuntimeError\u001b[0m: Exception thrown in SimpleITK ImageSeriesReader_Execute: /home/conda/feedstock_root/build_artifacts/libsimpleitk_1670439718985/work/Code/IO/src/sitkImageReaderBase.cxx:97:\nsitk::ERROR: The file \"(0008, 0008) Image Type                          CS: ['DERIVED', 'PRIMARY']\" does not exist."
     ]
    }
   ],
   "source": [
    "create_bounding_box(ds)"
   ]
  },
  {
   "cell_type": "code",
   "execution_count": null,
   "metadata": {},
   "outputs": [],
   "source": []
  }
 ],
 "metadata": {
  "kernelspec": {
   "display_name": "Python 3 (ipykernel)",
   "language": "python",
   "name": "python3"
  },
  "language_info": {
   "codemirror_mode": {
    "name": "ipython",
    "version": 3
   },
   "file_extension": ".py",
   "mimetype": "text/x-python",
   "name": "python",
   "nbconvert_exporter": "python",
   "pygments_lexer": "ipython3",
   "version": "3.11.0"
  }
 },
 "nbformat": 4,
 "nbformat_minor": 2
}
