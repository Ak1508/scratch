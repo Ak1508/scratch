{
 "cells": [
  {
   "cell_type": "code",
   "execution_count": 2,
   "id": "c5147ae4",
   "metadata": {},
   "outputs": [],
   "source": [
    "from sqlalchemy import Column, ForeignKey, Integer, String\n",
    "from sqlalchemy.ext.declarative import declarative_base\n",
    "from sqlalchemy.orm import relationship\n"
   ]
  },
  {
   "cell_type": "code",
   "execution_count": 3,
   "id": "1d36f3c5",
   "metadata": {},
   "outputs": [],
   "source": [
    "Base = declarative_base()"
   ]
  },
  {
   "cell_type": "code",
   "execution_count": 4,
   "id": "81846d19",
   "metadata": {},
   "outputs": [],
   "source": [
    "class Patient(Base):\n",
    "    __tablename__ = \"Patients\"\n",
    "    id = Column(Integer, primary_key=True)\n",
    "\n",
    "    PatientID = Column(String)\n",
    "    PatientBirthDate = Column(String)\n",
    "    PatientAge = Column(Integer)\n",
    "    PatientSex = Column(String)\n",
    "\n",
    "    def __repr__(self):\n",
    "        return f\"<Patient(PatientID={self.PatientID})>\""
   ]
  },
  {
   "cell_type": "code",
   "execution_count": 5,
   "id": "898be35c",
   "metadata": {},
   "outputs": [],
   "source": [
    "import argparse\n",
    "import sys\n",
    "import pathlib\n",
    "import pydicom\n",
    "import re"
   ]
  },
  {
   "cell_type": "code",
   "execution_count": 6,
   "id": "4e10d551",
   "metadata": {},
   "outputs": [],
   "source": [
    "from sqlalchemy import create_engine\n",
    "from sqlalchemy.orm import sessionmaker"
   ]
  },
  {
   "cell_type": "code",
   "execution_count": 21,
   "id": "7306c7de",
   "metadata": {},
   "outputs": [],
   "source": [
    "def populate_object_from_dicom(object, dcm_obj, tags, extra_fields=None, **kwargs):\n",
    "    # TODO: Get proper datatype, now everything is a string\n",
    "    if extra_fields is None:\n",
    "        extra_fields = {}\n",
    "\n",
    "    from_dicom = {}\n",
    "    # This parsing must be more elaborate, checking datatype\n",
    "    for k in tags[object.__name__]:\n",
    "        dcm_val = getattr(dcm_obj, k, \"NULL\")\n",
    "        if isinstance(dcm_val, pydicom.multival.MultiValue):\n",
    "            dcm_val = \"/\".join(dcm_val)\n",
    "        from_dicom[k] = dcm_val\n",
    "\n",
    "    return object(**{**from_dicom, **extra_fields}, **kwargs)"
   ]
  },
  {
   "cell_type": "code",
   "execution_count": 23,
   "id": "c3ce4827",
   "metadata": {},
   "outputs": [],
   "source": [
    "def add_or_update(session, model, instance, **kwargs):\n",
    "    exists = session.query(model).filter_by(**kwargs).first()\n",
    "    if not exists:\n",
    "        session.add(instance)\n",
    "        session.commit()\n",
    "        return instance\n",
    "\n",
    "    else:  # TODO: Update only the fields which are new, DICOM does not require each slice to have all the data.\n",
    "        pass\n",
    "\n",
    "    return exists\n"
   ]
  },
  {
   "cell_type": "code",
   "execution_count": 24,
   "id": "2581b87a",
   "metadata": {},
   "outputs": [],
   "source": [
    "from pydicom.data import get_testdata_file\n",
    "fpath = get_testdata_file(\"CT_small.dcm\")\n",
    "from pydicom import dcmread\n",
    "ds = dcmread(fpath)"
   ]
  },
  {
   "cell_type": "code",
   "execution_count": 28,
   "id": "91773808",
   "metadata": {},
   "outputs": [
    {
     "ename": "TypeError",
     "evalue": "string indices must be integers, not 'str'",
     "output_type": "error",
     "traceback": [
      "\u001b[0;31m---------------------------------------------------------------------------\u001b[0m",
      "\u001b[0;31mTypeError\u001b[0m                                 Traceback (most recent call last)",
      "Cell \u001b[0;32mIn[28], line 1\u001b[0m\n\u001b[0;32m----> 1\u001b[0m patient \u001b[38;5;241m=\u001b[39m \u001b[43mpopulate_object_from_dicom\u001b[49m\u001b[43m(\u001b[49m\u001b[43mPatient\u001b[49m\u001b[43m,\u001b[49m\u001b[43m \u001b[49m\u001b[43mds\u001b[49m\u001b[43m,\u001b[49m\u001b[43m \u001b[49m\u001b[43mds\u001b[49m\u001b[38;5;241;43m.\u001b[39;49m\u001b[43mPatientID\u001b[49m\u001b[43m)\u001b[49m\n",
      "Cell \u001b[0;32mIn[21], line 8\u001b[0m, in \u001b[0;36mpopulate_object_from_dicom\u001b[0;34m(object, dcm_obj, tags, extra_fields, **kwargs)\u001b[0m\n\u001b[1;32m      6\u001b[0m from_dicom \u001b[38;5;241m=\u001b[39m {}\n\u001b[1;32m      7\u001b[0m \u001b[38;5;66;03m# This parsing must be more elaborate, checking datatype\u001b[39;00m\n\u001b[0;32m----> 8\u001b[0m \u001b[38;5;28;01mfor\u001b[39;00m k \u001b[38;5;129;01min\u001b[39;00m \u001b[43mtags\u001b[49m\u001b[43m[\u001b[49m\u001b[38;5;28;43mobject\u001b[39;49m\u001b[38;5;241;43m.\u001b[39;49m\u001b[38;5;18;43m__name__\u001b[39;49m\u001b[43m]\u001b[49m:\n\u001b[1;32m      9\u001b[0m     dcm_val \u001b[38;5;241m=\u001b[39m \u001b[38;5;28mgetattr\u001b[39m(dcm_obj, k, \u001b[38;5;124m\"\u001b[39m\u001b[38;5;124mNULL\u001b[39m\u001b[38;5;124m\"\u001b[39m)\n\u001b[1;32m     10\u001b[0m     \u001b[38;5;28;01mif\u001b[39;00m \u001b[38;5;28misinstance\u001b[39m(dcm_val, pydicom\u001b[38;5;241m.\u001b[39mmultival\u001b[38;5;241m.\u001b[39mMultiValue):\n",
      "\u001b[0;31mTypeError\u001b[0m: string indices must be integers, not 'str'"
     ]
    }
   ],
   "source": [
    " patient = populate_object_from_dicom(Patient, ds, ds.PatientID)"
   ]
  },
  {
   "cell_type": "code",
   "execution_count": 11,
   "id": "50daf423",
   "metadata": {},
   "outputs": [],
   "source": [
    "def import_into_db(session, tags, dcm_fn):\n",
    "    try:\n",
    "        dcm_obj = pydicom.read_file(dcm_fn, stop_before_pixels=True)\n",
    "    except InvalidDicomError:\n",
    "        return False\n",
    "    # Create Patient\n",
    "    # TODO: Create a partial always populating tags\n",
    "    patient = populate_object_from_dicom(Patient, dcm_obj, tags)\n",
    "    patient = add_or_update(session, Patient, patient, PatientID=patient.PatientID)\n",
    "\n",
    "    study = populate_object_from_dicom(Study, dcm_obj, tags, patient=patient)\n",
    "    study = add_or_update(\n",
    "        session, Study, study, StudyInstanceUID=study.StudyInstanceUID\n",
    "    )\n",
    "\n",
    "    series = populate_object_from_dicom(Series, dcm_obj, tags, study=study)\n",
    "    series = add_or_update(\n",
    "        session, Series, series, SeriesInstanceUID=series.SeriesInstanceUID\n",
    "    )\n",
    "\n",
    "    image = populate_object_from_dicom(\n",
    "        Image, dcm_obj, tags, extra_fields={\"filename\": str(dcm_fn)}, series=series\n",
    "    )\n",
    "    # Already imported images are skipped.\n",
    "    session.add(image)\n",
    "    session.commit()\n",
    "\n",
    "    # Check SOPClassUID if this is a MRI.\n",
    "    if dcm_obj.SOPClassUID == \"1.2.840.10008.5.1.4.1.1.4\":  # MR Image Storage\n",
    "        mri_image = populate_object_from_dicom(MRIImage, dcm_obj, tags, image=image)\n",
    "        session.add(mri_image)\n",
    "        session.commit()\n",
    "    return True"
   ]
  },
  {
   "cell_type": "code",
   "execution_count": 13,
   "id": "7c8c7609",
   "metadata": {},
   "outputs": [
    {
     "name": "stderr",
     "output_type": "stream",
     "text": [
      "usage: dicomtosql parses folders recursively for dicom files,\n",
      "        and saves relevant data to an SQLite database.\n",
      "ipykernel_launcher.py: error: unrecognized arguments: -f\n"
     ]
    },
    {
     "ename": "SystemExit",
     "evalue": "2",
     "output_type": "error",
     "traceback": [
      "An exception has occurred, use %tb to see the full traceback.\n",
      "\u001b[0;31mSystemExit\u001b[0m\u001b[0;31m:\u001b[0m 2\n"
     ]
    },
    {
     "name": "stderr",
     "output_type": "stream",
     "text": [
      "/home/abishek/anaconda3/envs/medphys/lib/python3.11/site-packages/IPython/core/interactiveshell.py:3441: UserWarning: To exit: use 'exit', 'quit', or Ctrl-D.\n",
      "  warn(\"To exit: use 'exit', 'quit', or Ctrl-D.\", stacklevel=1)\n"
     ]
    }
   ],
   "source": [
    "def main():\n",
    "    \"\"\"Console script for dicomtosql.\"\"\"\n",
    "    parser = argparse.ArgumentParser(\n",
    "        usage=\"\"\"dicomtosql parses folders recursively for dicom files,\n",
    "        and saves relevant data to an SQLite database.\"\"\"\n",
    "    )\n",
    "    parser.add_argument(\n",
    "        \"PATH_TO_DICOM\", type=pathlib.Path, help=\"Path to the dicom files.\"\n",
    "    )\n",
    "    parser.add_argument(\n",
    "        \"--sql-database\",\n",
    "        type=pathlib.Path,\n",
    "        default=\"dicomtosql.db\",\n",
    "        help=\"Path to SQLite database.\",\n",
    "    )\n",
    "    parser.add_argument(\n",
    "        \"--folders\",\n",
    "        type=pathlib.Path,\n",
    "        help=\"Path to text file containing paths line by line to process for dicom files.\",\n",
    "    )\n",
    "\n",
    "    args = parser.parse_args()\n",
    "    parse_dicom(args.PATH_TO_DICOM, args.sql_database)\n",
    "\n",
    "\n",
    "if __name__ == \"__main__\":\n",
    "    sys.exit(main())  # pragma: no cover\n",
    "\n"
   ]
  },
  {
   "cell_type": "code",
   "execution_count": 15,
   "id": "f60ddf2b",
   "metadata": {},
   "outputs": [
    {
     "ename": "NameError",
     "evalue": "name 'tags' is not defined",
     "output_type": "error",
     "traceback": [
      "\u001b[0;31m---------------------------------------------------------------------------\u001b[0m",
      "\u001b[0;31mNameError\u001b[0m                                 Traceback (most recent call last)",
      "Cell \u001b[0;32mIn[15], line 1\u001b[0m\n\u001b[0;32m----> 1\u001b[0m patient \u001b[38;5;241m=\u001b[39m populate_object_from_dicom(Patient, ds, \u001b[43mtags\u001b[49m)\n",
      "\u001b[0;31mNameError\u001b[0m: name 'tags' is not defined"
     ]
    }
   ],
   "source": []
  },
  {
   "cell_type": "code",
   "execution_count": 29,
   "id": "2b3da415",
   "metadata": {},
   "outputs": [
    {
     "name": "stdout",
     "output_type": "stream",
     "text": [
      "/home/abishek/Desktop/MedPhys\r\n"
     ]
    }
   ],
   "source": [
    "!pwd"
   ]
  },
  {
   "cell_type": "code",
   "execution_count": 30,
   "id": "c50ef461",
   "metadata": {},
   "outputs": [
    {
     "name": "stdout",
     "output_type": "stream",
     "text": [
      "dicomDatabase.ipynb  reading_dicom_file.ipynb\r\n"
     ]
    }
   ],
   "source": [
    "!ls"
   ]
  },
  {
   "cell_type": "code",
   "execution_count": null,
   "id": "b7b9b240",
   "metadata": {},
   "outputs": [],
   "source": []
  }
 ],
 "metadata": {
  "kernelspec": {
   "display_name": "Python 3 (ipykernel)",
   "language": "python",
   "name": "python3"
  },
  "language_info": {
   "codemirror_mode": {
    "name": "ipython",
    "version": 3
   },
   "file_extension": ".py",
   "mimetype": "text/x-python",
   "name": "python",
   "nbconvert_exporter": "python",
   "pygments_lexer": "ipython3",
   "version": "3.11.0"
  }
 },
 "nbformat": 4,
 "nbformat_minor": 5
}
